{
 "cells": [
  {
   "cell_type": "code",
   "execution_count": 2,
   "metadata": {},
   "outputs": [
    {
     "data": {
      "text/plain": [
       "<matplotlib.axes._subplots.AxesSubplot at 0x2d0804147c8>"
      ]
     },
     "execution_count": 2,
     "metadata": {},
     "output_type": "execute_result"
    },
    {
     "data": {
      "image/png": "[encoded data removed]",
      "text/plain": [
       "<Figure size 432x288 with 1 Axes>"
      ]
     },
     "metadata": {
      "needs_background": "light"
     },
     "output_type": "display_data"
    }
   ],
   "source": [
    "import matplotlib\n",
    "import pandas as pd\n",
    "\n",
    "\n",
    "df = pd.read_csv('https://ed-public-download.app.cloud.gov/downloads/Most-Recent-Cohorts-All-Data-Elements.csv', usecols=['INSTNM', 'REGION', 'ADM_RATE', 'SAT_AVG', 'COSTT4_A'] )\n",
    "\n",
    "savedf = df\n",
    "\n",
    "cleandf = df[df.ADM_RATE > 0]\n",
    "df= cleandf\n",
    "\n",
    "cleandf = df[df.SAT_AVG > 0]\n",
    "df= cleandf\n",
    "\n",
    "\n",
    "def sat(sat):\n",
    "    try:\n",
    "        t = int(sat/1000)\n",
    "    except ValueError:\n",
    "        t = 0\n",
    "    return t\n",
    "\n",
    "def expense(tuition):\n",
    "    try:\n",
    "        t = int(tuition/50000)\n",
    "    except ValueError:\n",
    "        t = 0\n",
    "    return t\n",
    "\n",
    "df.iloc[:, 3] = df.iloc[:, 3].apply(sat)\n",
    "df.iloc[:, 4] = df.iloc[:, 4].apply(expense)\n",
    "\n",
    "\n",
    "x= df[['REGION','SAT_AVG','ADM_RATE','COSTT4_A' ]]\n",
    "y= x.set_index('REGION')\n",
    "z=y.groupby('REGION').mean()\n",
    "\n",
    "z.plot.bar(stacked=True)"
   ]
  },
  {
   "cell_type": "code",
   "execution_count": null,
   "metadata": {},
   "outputs": [],
   "source": []
  },
  {
   "cell_type": "code",
   "execution_count": null,
   "metadata": {},
   "outputs": [],
   "source": []
  },
  {
   "cell_type": "code",
   "execution_count": null,
   "metadata": {},
   "outputs": [],
   "source": []
  }
 ],
 "metadata": {
  "kernelspec": {
   "display_name": "Python 3",
   "language": "python",
   "name": "python3"
  },
  "language_info": {
   "codemirror_mode": {
    "name": "ipython",
    "version": 3
   },
   "file_extension": ".py",
   "mimetype": "text/x-python",
   "name": "python",
   "nbconvert_exporter": "python",
   "pygments_lexer": "ipython3",
   "version": "3.7.4"
  }
 },
 "nbformat": 4,
 "nbformat_minor": 2
}
